{
 "cells": [
  {
   "cell_type": "code",
   "execution_count": 1,
   "id": "ddc8cc1f",
   "metadata": {},
   "outputs": [],
   "source": [
    "import pandas as pd"
   ]
  },
  {
   "cell_type": "code",
   "execution_count": 2,
   "id": "bbfdb36c",
   "metadata": {},
   "outputs": [],
   "source": [
    "df_1= pd.read_csv('df_top.csv')\n",
    "file_path = 'C:/Users/Andrea/Documents/DATA/YT_CR_PROCESS/df_mas.csv'\n",
    "df_2= pd.read_csv(file_path)"
   ]
  },
  {
   "cell_type": "code",
   "execution_count": 3,
   "id": "128fe29e",
   "metadata": {},
   "outputs": [
    {
     "data": {
      "text/plain": [
       "\"['Amber', 'amber vtuber', 'genshi', 'genshi game', 'genshi impact', 'genshi video', 'genshin', 'genshin game', 'genshin impact', 'genshin impact 2020', 'genshin impact game', 'genshin impact good', 'genshin impact graphics', 'genshin impact introduction', 'genshin impact manga', 'genshin impact wiki', 'geshin', 'geshin game', 'Teyvat', 'yuanshen game', 'miHoYo China', 'miHoYo Japan', 'adventure story', 'open world game', 'anime style', 'MMORPG', 'anime games', 'mobile game', 'MMO PlayStation', 'yt:cc=on']\""
      ]
     },
     "execution_count": 3,
     "metadata": {},
     "output_type": "execute_result"
    }
   ],
   "source": [
    "df_1['tags'][1]\n",
    "#len(df_1['tags'][3])"
   ]
  },
  {
   "cell_type": "code",
   "execution_count": 4,
   "id": "a5737308",
   "metadata": {},
   "outputs": [],
   "source": [
    "df_2= df_2.drop(['custom_url'], axis=1)\n",
    "#df_2"
   ]
  },
  {
   "cell_type": "code",
   "execution_count": 5,
   "id": "0ba96c62",
   "metadata": {},
   "outputs": [],
   "source": [
    "#df_2['tags'][1]"
   ]
  },
  {
   "cell_type": "code",
   "execution_count": 6,
   "id": "03a09e06",
   "metadata": {},
   "outputs": [
    {
     "data": {
      "text/html": [
       "<div>\n",
       "<style scoped>\n",
       "    .dataframe tbody tr th:only-of-type {\n",
       "        vertical-align: middle;\n",
       "    }\n",
       "\n",
       "    .dataframe tbody tr th {\n",
       "        vertical-align: top;\n",
       "    }\n",
       "\n",
       "    .dataframe thead th {\n",
       "        text-align: right;\n",
       "    }\n",
       "</style>\n",
       "<table border=\"1\" class=\"dataframe\">\n",
       "  <thead>\n",
       "    <tr style=\"text-align: right;\">\n",
       "      <th></th>\n",
       "      <th>channel_id</th>\n",
       "      <th>channel_title</th>\n",
       "      <th>category_id</th>\n",
       "      <th>title</th>\n",
       "      <th>tags</th>\n",
       "      <th>description</th>\n",
       "    </tr>\n",
       "  </thead>\n",
       "  <tbody>\n",
       "    <tr>\n",
       "      <th>0</th>\n",
       "      <td>UCnmGIkw-KdI0W5siakKPKog</td>\n",
       "      <td>Ryan Trahan</td>\n",
       "      <td>24</td>\n",
       "      <td>I Survived On €0.01 For 1 Week - Day 2</td>\n",
       "      <td>['Ryan', 'Trahan']</td>\n",
       "      <td>day 2 1 penny 1 mission\\ndonate here</td>\n",
       "    </tr>\n",
       "    <tr>\n",
       "      <th>1</th>\n",
       "      <td>UCiS882YPwZt1NfaM0gR0D9Q</td>\n",
       "      <td>Genshin Impact</td>\n",
       "      <td>20</td>\n",
       "      <td>Overture Teaser: The Final Feast | Genshin Impact</td>\n",
       "      <td>['Amber', 'amber vtuber', 'genshi', 'genshi ga...</td>\n",
       "      <td>enjoy a rapturous ode sung in reverse\\nenjoy a...</td>\n",
       "    </tr>\n",
       "    <tr>\n",
       "      <th>2</th>\n",
       "      <td>UC6pGDc4bFGD1_36IKv3FnYg</td>\n",
       "      <td>Crunchyroll Collection</td>\n",
       "      <td>1</td>\n",
       "      <td>Attack on Titan Final Season THE FINAL CHAPTER...</td>\n",
       "      <td>['Crunchyroll', 'anime', 'anime trailer', 'ani...</td>\n",
       "      <td>attack on titan final season the final chapter...</td>\n",
       "    </tr>\n",
       "    <tr>\n",
       "      <th>3</th>\n",
       "      <td>UCuN9hYw2RpoAW8rZ3VK3isA</td>\n",
       "      <td>NASCAR</td>\n",
       "      <td>17</td>\n",
       "      <td>Chicago Street Race: Grant Park 220 Extended H...</td>\n",
       "      <td>['nascar', 'nascar cup series', 'Chicago Stree...</td>\n",
       "      <td>relive the inaugural grant park 220 that saw a...</td>\n",
       "    </tr>\n",
       "    <tr>\n",
       "      <th>4</th>\n",
       "      <td>UCto7D1L-MiRoOziCXK9uT5Q</td>\n",
       "      <td>Let's Game It Out</td>\n",
       "      <td>20</td>\n",
       "      <td>I Turned a Whole Town Into a Monument of Insan...</td>\n",
       "      <td>[\"let's game it out\", 'lets game it out', 'let...</td>\n",
       "      <td>thanks to call of dragons for sponsoring check...</td>\n",
       "    </tr>\n",
       "  </tbody>\n",
       "</table>\n",
       "</div>"
      ],
      "text/plain": [
       "                 channel_id           channel_title  category_id  \\\n",
       "0  UCnmGIkw-KdI0W5siakKPKog             Ryan Trahan           24   \n",
       "1  UCiS882YPwZt1NfaM0gR0D9Q          Genshin Impact           20   \n",
       "2  UC6pGDc4bFGD1_36IKv3FnYg  Crunchyroll Collection            1   \n",
       "3  UCuN9hYw2RpoAW8rZ3VK3isA                  NASCAR           17   \n",
       "4  UCto7D1L-MiRoOziCXK9uT5Q       Let's Game It Out           20   \n",
       "\n",
       "                                               title  \\\n",
       "0             I Survived On €0.01 For 1 Week - Day 2   \n",
       "1  Overture Teaser: The Final Feast | Genshin Impact   \n",
       "2  Attack on Titan Final Season THE FINAL CHAPTER...   \n",
       "3  Chicago Street Race: Grant Park 220 Extended H...   \n",
       "4  I Turned a Whole Town Into a Monument of Insan...   \n",
       "\n",
       "                                                tags  \\\n",
       "0                                 ['Ryan', 'Trahan']   \n",
       "1  ['Amber', 'amber vtuber', 'genshi', 'genshi ga...   \n",
       "2  ['Crunchyroll', 'anime', 'anime trailer', 'ani...   \n",
       "3  ['nascar', 'nascar cup series', 'Chicago Stree...   \n",
       "4  [\"let's game it out\", 'lets game it out', 'let...   \n",
       "\n",
       "                                         description  \n",
       "0             day 2 1 penny 1 mission\\ndonate here    \n",
       "1  enjoy a rapturous ode sung in reverse\\nenjoy a...  \n",
       "2  attack on titan final season the final chapter...  \n",
       "3  relive the inaugural grant park 220 that saw a...  \n",
       "4  thanks to call of dragons for sponsoring check...  "
      ]
     },
     "execution_count": 6,
     "metadata": {},
     "output_type": "execute_result"
    }
   ],
   "source": [
    "df_trending = pd.concat([df_1,df_2], axis=0)\n",
    "df_trending = df_trending.reset_index(drop=True)\n",
    "df_trending.head()"
   ]
  },
  {
   "cell_type": "code",
   "execution_count": 7,
   "id": "44c4ec68",
   "metadata": {},
   "outputs": [
    {
     "data": {
      "text/plain": [
       "channel_id         0\n",
       "channel_title      0\n",
       "category_id        0\n",
       "title              0\n",
       "tags             162\n",
       "description       84\n",
       "dtype: int64"
      ]
     },
     "execution_count": 7,
     "metadata": {},
     "output_type": "execute_result"
    }
   ],
   "source": [
    "df_trending.isna().sum()"
   ]
  },
  {
   "cell_type": "code",
   "execution_count": 8,
   "id": "1d7b6f3a",
   "metadata": {},
   "outputs": [
    {
     "data": {
      "text/html": [
       "<div>\n",
       "<style scoped>\n",
       "    .dataframe tbody tr th:only-of-type {\n",
       "        vertical-align: middle;\n",
       "    }\n",
       "\n",
       "    .dataframe tbody tr th {\n",
       "        vertical-align: top;\n",
       "    }\n",
       "\n",
       "    .dataframe thead th {\n",
       "        text-align: right;\n",
       "    }\n",
       "</style>\n",
       "<table border=\"1\" class=\"dataframe\">\n",
       "  <thead>\n",
       "    <tr style=\"text-align: right;\">\n",
       "      <th></th>\n",
       "      <th>channel_id</th>\n",
       "      <th>channel_title</th>\n",
       "      <th>category_id</th>\n",
       "      <th>title</th>\n",
       "      <th>tags</th>\n",
       "      <th>description</th>\n",
       "    </tr>\n",
       "  </thead>\n",
       "  <tbody>\n",
       "    <tr>\n",
       "      <th>0</th>\n",
       "      <td>UCnmGIkw-KdI0W5siakKPKog</td>\n",
       "      <td>Ryan Trahan</td>\n",
       "      <td>24</td>\n",
       "      <td>I Survived On €0.01 For 1 Week - Day 2</td>\n",
       "      <td>['ryan', 'trahan']</td>\n",
       "      <td>day 2 1 penny 1 mission\\ndonate here</td>\n",
       "    </tr>\n",
       "    <tr>\n",
       "      <th>1</th>\n",
       "      <td>UCiS882YPwZt1NfaM0gR0D9Q</td>\n",
       "      <td>Genshin Impact</td>\n",
       "      <td>20</td>\n",
       "      <td>Overture Teaser: The Final Feast | Genshin Impact</td>\n",
       "      <td>['amber', 'amber vtuber', 'genshi', 'genshi ga...</td>\n",
       "      <td>enjoy a rapturous ode sung in reverse\\nenjoy a...</td>\n",
       "    </tr>\n",
       "    <tr>\n",
       "      <th>2</th>\n",
       "      <td>UC6pGDc4bFGD1_36IKv3FnYg</td>\n",
       "      <td>Crunchyroll Collection</td>\n",
       "      <td>1</td>\n",
       "      <td>Attack on Titan Final Season THE FINAL CHAPTER...</td>\n",
       "      <td>['crunchyroll', 'anime', 'anime trailer', 'ani...</td>\n",
       "      <td>attack on titan final season the final chapter...</td>\n",
       "    </tr>\n",
       "    <tr>\n",
       "      <th>3</th>\n",
       "      <td>UCuN9hYw2RpoAW8rZ3VK3isA</td>\n",
       "      <td>NASCAR</td>\n",
       "      <td>17</td>\n",
       "      <td>Chicago Street Race: Grant Park 220 Extended H...</td>\n",
       "      <td>['nascar', 'nascar cup series', 'chicago stree...</td>\n",
       "      <td>relive the inaugural grant park 220 that saw a...</td>\n",
       "    </tr>\n",
       "    <tr>\n",
       "      <th>4</th>\n",
       "      <td>UCto7D1L-MiRoOziCXK9uT5Q</td>\n",
       "      <td>Let's Game It Out</td>\n",
       "      <td>20</td>\n",
       "      <td>I Turned a Whole Town Into a Monument of Insan...</td>\n",
       "      <td>[\"let's game it out\", 'lets game it out', 'let...</td>\n",
       "      <td>thanks to call of dragons for sponsoring check...</td>\n",
       "    </tr>\n",
       "  </tbody>\n",
       "</table>\n",
       "</div>"
      ],
      "text/plain": [
       "                 channel_id           channel_title  category_id  \\\n",
       "0  UCnmGIkw-KdI0W5siakKPKog             Ryan Trahan           24   \n",
       "1  UCiS882YPwZt1NfaM0gR0D9Q          Genshin Impact           20   \n",
       "2  UC6pGDc4bFGD1_36IKv3FnYg  Crunchyroll Collection            1   \n",
       "3  UCuN9hYw2RpoAW8rZ3VK3isA                  NASCAR           17   \n",
       "4  UCto7D1L-MiRoOziCXK9uT5Q       Let's Game It Out           20   \n",
       "\n",
       "                                               title  \\\n",
       "0             I Survived On €0.01 For 1 Week - Day 2   \n",
       "1  Overture Teaser: The Final Feast | Genshin Impact   \n",
       "2  Attack on Titan Final Season THE FINAL CHAPTER...   \n",
       "3  Chicago Street Race: Grant Park 220 Extended H...   \n",
       "4  I Turned a Whole Town Into a Monument of Insan...   \n",
       "\n",
       "                                                tags  \\\n",
       "0                                 ['ryan', 'trahan']   \n",
       "1  ['amber', 'amber vtuber', 'genshi', 'genshi ga...   \n",
       "2  ['crunchyroll', 'anime', 'anime trailer', 'ani...   \n",
       "3  ['nascar', 'nascar cup series', 'chicago stree...   \n",
       "4  [\"let's game it out\", 'lets game it out', 'let...   \n",
       "\n",
       "                                         description  \n",
       "0             day 2 1 penny 1 mission\\ndonate here    \n",
       "1  enjoy a rapturous ode sung in reverse\\nenjoy a...  \n",
       "2  attack on titan final season the final chapter...  \n",
       "3  relive the inaugural grant park 220 that saw a...  \n",
       "4  thanks to call of dragons for sponsoring check...  "
      ]
     },
     "execution_count": 8,
     "metadata": {},
     "output_type": "execute_result"
    }
   ],
   "source": [
    "#Convert all in tags into lower letters\n",
    "df_trending['tags'] = df_trending['tags'].str.lower()\n",
    "df_trending.head()"
   ]
  },
  {
   "cell_type": "code",
   "execution_count": 9,
   "id": "75f6c34d",
   "metadata": {},
   "outputs": [
    {
     "data": {
      "text/html": [
       "<div>\n",
       "<style scoped>\n",
       "    .dataframe tbody tr th:only-of-type {\n",
       "        vertical-align: middle;\n",
       "    }\n",
       "\n",
       "    .dataframe tbody tr th {\n",
       "        vertical-align: top;\n",
       "    }\n",
       "\n",
       "    .dataframe thead th {\n",
       "        text-align: right;\n",
       "    }\n",
       "</style>\n",
       "<table border=\"1\" class=\"dataframe\">\n",
       "  <thead>\n",
       "    <tr style=\"text-align: right;\">\n",
       "      <th></th>\n",
       "      <th>channel_id</th>\n",
       "      <th>channel_title</th>\n",
       "      <th>category_id</th>\n",
       "      <th>title</th>\n",
       "      <th>tags</th>\n",
       "      <th>description</th>\n",
       "    </tr>\n",
       "  </thead>\n",
       "  <tbody>\n",
       "    <tr>\n",
       "      <th>0</th>\n",
       "      <td>UCnmGIkw-KdI0W5siakKPKog</td>\n",
       "      <td>Ryan Trahan</td>\n",
       "      <td>24</td>\n",
       "      <td>I Survived On €0.01 For 1 Week - Day 2</td>\n",
       "      <td>['ryan', 'trahan']</td>\n",
       "      <td>day 2 1 penny 1 mission\\ndonate here</td>\n",
       "    </tr>\n",
       "    <tr>\n",
       "      <th>1</th>\n",
       "      <td>UCiS882YPwZt1NfaM0gR0D9Q</td>\n",
       "      <td>Genshin Impact</td>\n",
       "      <td>20</td>\n",
       "      <td>Overture Teaser: The Final Feast | Genshin Impact</td>\n",
       "      <td>['amber', 'amber vtuber', 'genshi', 'genshi ga...</td>\n",
       "      <td>enjoy a rapturous ode sung in reverse\\nenjoy a...</td>\n",
       "    </tr>\n",
       "    <tr>\n",
       "      <th>2</th>\n",
       "      <td>UC6pGDc4bFGD1_36IKv3FnYg</td>\n",
       "      <td>Crunchyroll Collection</td>\n",
       "      <td>1</td>\n",
       "      <td>Attack on Titan Final Season THE FINAL CHAPTER...</td>\n",
       "      <td>['crunchyroll', 'anime', 'anime trailer', 'ani...</td>\n",
       "      <td>attack on titan final season the final chapter...</td>\n",
       "    </tr>\n",
       "    <tr>\n",
       "      <th>3</th>\n",
       "      <td>UCuN9hYw2RpoAW8rZ3VK3isA</td>\n",
       "      <td>NASCAR</td>\n",
       "      <td>17</td>\n",
       "      <td>Chicago Street Race: Grant Park 220 Extended H...</td>\n",
       "      <td>['nascar', 'nascar cup series', 'chicago stree...</td>\n",
       "      <td>relive the inaugural grant park 220 that saw a...</td>\n",
       "    </tr>\n",
       "    <tr>\n",
       "      <th>4</th>\n",
       "      <td>UCto7D1L-MiRoOziCXK9uT5Q</td>\n",
       "      <td>Let's Game It Out</td>\n",
       "      <td>20</td>\n",
       "      <td>I Turned a Whole Town Into a Monument of Insan...</td>\n",
       "      <td>[\"let's game it out\", 'lets game it out', 'let...</td>\n",
       "      <td>thanks to call of dragons for sponsoring check...</td>\n",
       "    </tr>\n",
       "  </tbody>\n",
       "</table>\n",
       "</div>"
      ],
      "text/plain": [
       "                 channel_id           channel_title  category_id  \\\n",
       "0  UCnmGIkw-KdI0W5siakKPKog             Ryan Trahan           24   \n",
       "1  UCiS882YPwZt1NfaM0gR0D9Q          Genshin Impact           20   \n",
       "2  UC6pGDc4bFGD1_36IKv3FnYg  Crunchyroll Collection            1   \n",
       "3  UCuN9hYw2RpoAW8rZ3VK3isA                  NASCAR           17   \n",
       "4  UCto7D1L-MiRoOziCXK9uT5Q       Let's Game It Out           20   \n",
       "\n",
       "                                               title  \\\n",
       "0             I Survived On €0.01 For 1 Week - Day 2   \n",
       "1  Overture Teaser: The Final Feast | Genshin Impact   \n",
       "2  Attack on Titan Final Season THE FINAL CHAPTER...   \n",
       "3  Chicago Street Race: Grant Park 220 Extended H...   \n",
       "4  I Turned a Whole Town Into a Monument of Insan...   \n",
       "\n",
       "                                                tags  \\\n",
       "0                                 ['ryan', 'trahan']   \n",
       "1  ['amber', 'amber vtuber', 'genshi', 'genshi ga...   \n",
       "2  ['crunchyroll', 'anime', 'anime trailer', 'ani...   \n",
       "3  ['nascar', 'nascar cup series', 'chicago stree...   \n",
       "4  [\"let's game it out\", 'lets game it out', 'let...   \n",
       "\n",
       "                                         description  \n",
       "0             day 2 1 penny 1 mission\\ndonate here    \n",
       "1  enjoy a rapturous ode sung in reverse\\nenjoy a...  \n",
       "2  attack on titan final season the final chapter...  \n",
       "3  relive the inaugural grant park 220 that saw a...  \n",
       "4  thanks to call of dragons for sponsoring check...  "
      ]
     },
     "execution_count": 9,
     "metadata": {},
     "output_type": "execute_result"
    }
   ],
   "source": [
    "# Dictionary mapping category_id values to meanings (as lists)\n",
    "category_mapping = {\n",
    "    1: ['film', 'animation', 'cine', 'animación'],\n",
    "    2: ['autos', 'vehicles', 'autos', 'vehículos'],\n",
    "    10: ['music', 'música'],\n",
    "    15: ['pets', 'animals', 'mascotas', 'animales'],\n",
    "    17: ['sports', 'deportes'],\n",
    "    18: ['short movies', 'cortometrajes'],\n",
    "    19: ['travel', 'events', 'viajes', 'eventos'],\n",
    "    20: ['gaming', 'videojuegos'],\n",
    "    21: ['videoblogging', 'videoblogs'],\n",
    "    22: ['people', 'blogs', 'gente', 'blogs'],\n",
    "    23: ['comedy', 'comedia'],\n",
    "    24: ['entertainment', 'entretenimiento'],\n",
    "    25: ['news', 'politics', 'noticias', 'política'],\n",
    "    26: ['howto', 'style', 'cómo hacerlo', 'estilo'],\n",
    "    27: ['education', 'educación'],\n",
    "    28: ['science', 'technology', 'ciencia', 'tecnología'],\n",
    "    29: ['nonprofits', 'activism', 'organizaciones sin fines de lucro', 'activismo'],\n",
    "    30: ['movies', 'películas'],\n",
    "    31: ['anime', 'animation', 'anime', 'animación'],\n",
    "    32: ['action', 'adventure', 'acción', 'aventura'],\n",
    "    33: ['classics', 'clásicos'],\n",
    "    34: ['jokes, funny'],\n",
    "    35: ['documentary', 'documental'],\n",
    "    36: ['drama', 'drama'],\n",
    "    37: ['family', 'familia'],\n",
    "    38: ['foreign', 'extranjero'],\n",
    "    39: ['horror', 'terror'],\n",
    "    40: ['sci-fi', 'fantasy', 'ciencia ficción', 'fantasía'],\n",
    "    41: ['thriller', 'suspense'],\n",
    "    42: ['shorts', 'cortos'],\n",
    "    43: ['shows', 'programas'],\n",
    "    44: ['trailers', 'avances']\n",
    "}\n",
    "\n",
    "df_trending['tags'] = df_trending['tags'].fillna(df_trending['category_id'].map(category_mapping))\n",
    "df_trending.head()"
   ]
  },
  {
   "cell_type": "code",
   "execution_count": 10,
   "id": "468abd26",
   "metadata": {},
   "outputs": [
    {
     "data": {
      "text/plain": [
       "0"
      ]
     },
     "execution_count": 10,
     "metadata": {},
     "output_type": "execute_result"
    }
   ],
   "source": [
    "df_trending['tags'].isna().sum()"
   ]
  },
  {
   "cell_type": "code",
   "execution_count": 11,
   "id": "75837ef9",
   "metadata": {},
   "outputs": [
    {
     "name": "stdout",
     "output_type": "stream",
     "text": [
      "<class 'pandas.core.frame.DataFrame'>\n",
      "RangeIndex: 865 entries, 0 to 864\n",
      "Data columns (total 6 columns):\n",
      " #   Column         Non-Null Count  Dtype \n",
      "---  ------         --------------  ----- \n",
      " 0   channel_id     865 non-null    object\n",
      " 1   channel_title  865 non-null    object\n",
      " 2   category_id    865 non-null    int64 \n",
      " 3   title          865 non-null    object\n",
      " 4   tags           865 non-null    object\n",
      " 5   description    781 non-null    object\n",
      "dtypes: int64(1), object(5)\n",
      "memory usage: 40.7+ KB\n"
     ]
    }
   ],
   "source": [
    "df_trending.info()"
   ]
  },
  {
   "cell_type": "code",
   "execution_count": 12,
   "id": "723e0047",
   "metadata": {},
   "outputs": [
    {
     "data": {
      "text/plain": [
       "(706, 6)"
      ]
     },
     "execution_count": 12,
     "metadata": {},
     "output_type": "execute_result"
    }
   ],
   "source": [
    "df_trending = df_trending.drop_duplicates(subset=['channel_id','channel_title'])\n",
    "df_trending.shape"
   ]
  },
  {
   "cell_type": "code",
   "execution_count": 13,
   "id": "550f6597",
   "metadata": {},
   "outputs": [
    {
     "data": {
      "text/plain": [
       "24    131\n",
       "10    110\n",
       "22     87\n",
       "25     57\n",
       "1      53\n",
       "17     53\n",
       "26     51\n",
       "20     48\n",
       "23     37\n",
       "27     34\n",
       "19     18\n",
       "2      18\n",
       "28      9\n",
       "Name: category_id, dtype: int64"
      ]
     },
     "execution_count": 13,
     "metadata": {},
     "output_type": "execute_result"
    }
   ],
   "source": [
    "df_trending['category_id'].value_counts()"
   ]
  },
  {
   "cell_type": "code",
   "execution_count": 14,
   "id": "e577b5c0",
   "metadata": {},
   "outputs": [
    {
     "data": {
      "text/plain": [
       "0"
      ]
     },
     "execution_count": 14,
     "metadata": {},
     "output_type": "execute_result"
    }
   ],
   "source": [
    "df_trending['tags'].isna().sum()"
   ]
  },
  {
   "cell_type": "code",
   "execution_count": 15,
   "id": "460c4cd2",
   "metadata": {},
   "outputs": [],
   "source": [
    "df_trending.to_csv('df_trending.csv', index=False)"
   ]
  },
  {
   "cell_type": "code",
   "execution_count": null,
   "id": "426ea2fd",
   "metadata": {},
   "outputs": [],
   "source": []
  }
 ],
 "metadata": {
  "kernelspec": {
   "display_name": "Python 3 (ipykernel)",
   "language": "python",
   "name": "python3"
  },
  "language_info": {
   "codemirror_mode": {
    "name": "ipython",
    "version": 3
   },
   "file_extension": ".py",
   "mimetype": "text/x-python",
   "name": "python",
   "nbconvert_exporter": "python",
   "pygments_lexer": "ipython3",
   "version": "3.10.9"
  }
 },
 "nbformat": 4,
 "nbformat_minor": 5
}
