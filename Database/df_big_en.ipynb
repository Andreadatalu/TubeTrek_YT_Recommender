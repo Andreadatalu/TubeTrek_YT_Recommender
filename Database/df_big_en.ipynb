{
 "cells": [
  {
   "cell_type": "code",
   "execution_count": 1,
   "id": "817606d9",
   "metadata": {},
   "outputs": [],
   "source": [
    "import pandas as pd\n",
    "import re\n",
    "\n",
    "file_path_CA = 'C:/Users/Andrea/Downloads/archive (4)/CAvideos.csv'\n",
    "data_CA = pd.read_csv(file_path_CA)\n",
    "file_path_GB = 'C:/Users/Andrea/Downloads/archive (4)/GBvideos.csv'\n",
    "data_GB = pd.read_csv(file_path_GB)\n",
    "file_path_US = 'C:/Users/Andrea/Downloads/archive (4)/USvideos.csv'\n",
    "data_US = pd.read_csv(file_path_US)"
   ]
  },
  {
   "cell_type": "code",
   "execution_count": 2,
   "id": "6073ddd6",
   "metadata": {},
   "outputs": [
    {
     "data": {
      "text/html": [
       "<div>\n",
       "<style scoped>\n",
       "    .dataframe tbody tr th:only-of-type {\n",
       "        vertical-align: middle;\n",
       "    }\n",
       "\n",
       "    .dataframe tbody tr th {\n",
       "        vertical-align: top;\n",
       "    }\n",
       "\n",
       "    .dataframe thead th {\n",
       "        text-align: right;\n",
       "    }\n",
       "</style>\n",
       "<table border=\"1\" class=\"dataframe\">\n",
       "  <thead>\n",
       "    <tr style=\"text-align: right;\">\n",
       "      <th></th>\n",
       "      <th>video_id</th>\n",
       "      <th>trending_date</th>\n",
       "      <th>title</th>\n",
       "      <th>channel_title</th>\n",
       "      <th>category_id</th>\n",
       "      <th>publish_time</th>\n",
       "      <th>tags</th>\n",
       "      <th>views</th>\n",
       "      <th>likes</th>\n",
       "      <th>dislikes</th>\n",
       "      <th>comment_count</th>\n",
       "      <th>thumbnail_link</th>\n",
       "      <th>comments_disabled</th>\n",
       "      <th>ratings_disabled</th>\n",
       "      <th>video_error_or_removed</th>\n",
       "      <th>description</th>\n",
       "    </tr>\n",
       "  </thead>\n",
       "  <tbody>\n",
       "    <tr>\n",
       "      <th>0</th>\n",
       "      <td>n1WpP7iowLc</td>\n",
       "      <td>17.14.11</td>\n",
       "      <td>Eminem - Walk On Water (Audio) ft. Beyoncé</td>\n",
       "      <td>EminemVEVO</td>\n",
       "      <td>10</td>\n",
       "      <td>2017-11-10T17:00:03.000Z</td>\n",
       "      <td>Eminem|\"Walk\"|\"On\"|\"Water\"|\"Aftermath/Shady/In...</td>\n",
       "      <td>17158579</td>\n",
       "      <td>787425</td>\n",
       "      <td>43420</td>\n",
       "      <td>125882</td>\n",
       "      <td>https://i.ytimg.com/vi/n1WpP7iowLc/default.jpg</td>\n",
       "      <td>False</td>\n",
       "      <td>False</td>\n",
       "      <td>False</td>\n",
       "      <td>Eminem's new track Walk on Water ft. Beyoncé i...</td>\n",
       "    </tr>\n",
       "    <tr>\n",
       "      <th>1</th>\n",
       "      <td>0dBIkQ4Mz1M</td>\n",
       "      <td>17.14.11</td>\n",
       "      <td>PLUSH - Bad Unboxing Fan Mail</td>\n",
       "      <td>iDubbbzTV</td>\n",
       "      <td>23</td>\n",
       "      <td>2017-11-13T17:00:00.000Z</td>\n",
       "      <td>plush|\"bad unboxing\"|\"unboxing\"|\"fan mail\"|\"id...</td>\n",
       "      <td>1014651</td>\n",
       "      <td>127794</td>\n",
       "      <td>1688</td>\n",
       "      <td>13030</td>\n",
       "      <td>https://i.ytimg.com/vi/0dBIkQ4Mz1M/default.jpg</td>\n",
       "      <td>False</td>\n",
       "      <td>False</td>\n",
       "      <td>False</td>\n",
       "      <td>STill got a lot of packages. Probably will las...</td>\n",
       "    </tr>\n",
       "    <tr>\n",
       "      <th>2</th>\n",
       "      <td>5qpjK5DgCt4</td>\n",
       "      <td>17.14.11</td>\n",
       "      <td>Racist Superman | Rudy Mancuso, King Bach &amp; Le...</td>\n",
       "      <td>Rudy Mancuso</td>\n",
       "      <td>23</td>\n",
       "      <td>2017-11-12T19:05:24.000Z</td>\n",
       "      <td>racist superman|\"rudy\"|\"mancuso\"|\"king\"|\"bach\"...</td>\n",
       "      <td>3191434</td>\n",
       "      <td>146035</td>\n",
       "      <td>5339</td>\n",
       "      <td>8181</td>\n",
       "      <td>https://i.ytimg.com/vi/5qpjK5DgCt4/default.jpg</td>\n",
       "      <td>False</td>\n",
       "      <td>False</td>\n",
       "      <td>False</td>\n",
       "      <td>WATCH MY PREVIOUS VIDEO ▶ \\n\\nSUBSCRIBE ► http...</td>\n",
       "    </tr>\n",
       "    <tr>\n",
       "      <th>3</th>\n",
       "      <td>d380meD0W0M</td>\n",
       "      <td>17.14.11</td>\n",
       "      <td>I Dare You: GOING BALD!?</td>\n",
       "      <td>nigahiga</td>\n",
       "      <td>24</td>\n",
       "      <td>2017-11-12T18:01:41.000Z</td>\n",
       "      <td>ryan|\"higa\"|\"higatv\"|\"nigahiga\"|\"i dare you\"|\"...</td>\n",
       "      <td>2095828</td>\n",
       "      <td>132239</td>\n",
       "      <td>1989</td>\n",
       "      <td>17518</td>\n",
       "      <td>https://i.ytimg.com/vi/d380meD0W0M/default.jpg</td>\n",
       "      <td>False</td>\n",
       "      <td>False</td>\n",
       "      <td>False</td>\n",
       "      <td>I know it's been a while since we did this sho...</td>\n",
       "    </tr>\n",
       "    <tr>\n",
       "      <th>4</th>\n",
       "      <td>2Vv-BfVoq4g</td>\n",
       "      <td>17.14.11</td>\n",
       "      <td>Ed Sheeran - Perfect (Official Music Video)</td>\n",
       "      <td>Ed Sheeran</td>\n",
       "      <td>10</td>\n",
       "      <td>2017-11-09T11:04:14.000Z</td>\n",
       "      <td>edsheeran|\"ed sheeran\"|\"acoustic\"|\"live\"|\"cove...</td>\n",
       "      <td>33523622</td>\n",
       "      <td>1634130</td>\n",
       "      <td>21082</td>\n",
       "      <td>85067</td>\n",
       "      <td>https://i.ytimg.com/vi/2Vv-BfVoq4g/default.jpg</td>\n",
       "      <td>False</td>\n",
       "      <td>False</td>\n",
       "      <td>False</td>\n",
       "      <td>🎧: https://ad.gt/yt-perfect\\n💰: https://atlant...</td>\n",
       "    </tr>\n",
       "  </tbody>\n",
       "</table>\n",
       "</div>"
      ],
      "text/plain": [
       "      video_id trending_date  \\\n",
       "0  n1WpP7iowLc      17.14.11   \n",
       "1  0dBIkQ4Mz1M      17.14.11   \n",
       "2  5qpjK5DgCt4      17.14.11   \n",
       "3  d380meD0W0M      17.14.11   \n",
       "4  2Vv-BfVoq4g      17.14.11   \n",
       "\n",
       "                                               title channel_title  \\\n",
       "0         Eminem - Walk On Water (Audio) ft. Beyoncé    EminemVEVO   \n",
       "1                      PLUSH - Bad Unboxing Fan Mail     iDubbbzTV   \n",
       "2  Racist Superman | Rudy Mancuso, King Bach & Le...  Rudy Mancuso   \n",
       "3                           I Dare You: GOING BALD!?      nigahiga   \n",
       "4        Ed Sheeran - Perfect (Official Music Video)    Ed Sheeran   \n",
       "\n",
       "   category_id              publish_time  \\\n",
       "0           10  2017-11-10T17:00:03.000Z   \n",
       "1           23  2017-11-13T17:00:00.000Z   \n",
       "2           23  2017-11-12T19:05:24.000Z   \n",
       "3           24  2017-11-12T18:01:41.000Z   \n",
       "4           10  2017-11-09T11:04:14.000Z   \n",
       "\n",
       "                                                tags     views    likes  \\\n",
       "0  Eminem|\"Walk\"|\"On\"|\"Water\"|\"Aftermath/Shady/In...  17158579   787425   \n",
       "1  plush|\"bad unboxing\"|\"unboxing\"|\"fan mail\"|\"id...   1014651   127794   \n",
       "2  racist superman|\"rudy\"|\"mancuso\"|\"king\"|\"bach\"...   3191434   146035   \n",
       "3  ryan|\"higa\"|\"higatv\"|\"nigahiga\"|\"i dare you\"|\"...   2095828   132239   \n",
       "4  edsheeran|\"ed sheeran\"|\"acoustic\"|\"live\"|\"cove...  33523622  1634130   \n",
       "\n",
       "   dislikes  comment_count                                  thumbnail_link  \\\n",
       "0     43420         125882  https://i.ytimg.com/vi/n1WpP7iowLc/default.jpg   \n",
       "1      1688          13030  https://i.ytimg.com/vi/0dBIkQ4Mz1M/default.jpg   \n",
       "2      5339           8181  https://i.ytimg.com/vi/5qpjK5DgCt4/default.jpg   \n",
       "3      1989          17518  https://i.ytimg.com/vi/d380meD0W0M/default.jpg   \n",
       "4     21082          85067  https://i.ytimg.com/vi/2Vv-BfVoq4g/default.jpg   \n",
       "\n",
       "   comments_disabled  ratings_disabled  video_error_or_removed  \\\n",
       "0              False             False                   False   \n",
       "1              False             False                   False   \n",
       "2              False             False                   False   \n",
       "3              False             False                   False   \n",
       "4              False             False                   False   \n",
       "\n",
       "                                         description  \n",
       "0  Eminem's new track Walk on Water ft. Beyoncé i...  \n",
       "1  STill got a lot of packages. Probably will las...  \n",
       "2  WATCH MY PREVIOUS VIDEO ▶ \\n\\nSUBSCRIBE ► http...  \n",
       "3  I know it's been a while since we did this sho...  \n",
       "4  🎧: https://ad.gt/yt-perfect\\n💰: https://atlant...  "
      ]
     },
     "execution_count": 2,
     "metadata": {},
     "output_type": "execute_result"
    }
   ],
   "source": [
    "df_big_en = pd.concat([data_CA, data_GB, data_US], axis=0)\n",
    "df_big_en.head(5)\n",
    "#df_big_en.shape"
   ]
  },
  {
   "cell_type": "code",
   "execution_count": 3,
   "id": "7fa60a8a",
   "metadata": {},
   "outputs": [
    {
     "data": {
      "text/plain": [
       "Index(['video_id', 'trending_date', 'title', 'channel_title', 'category_id',\n",
       "       'publish_time', 'tags', 'views', 'likes', 'dislikes', 'comment_count',\n",
       "       'thumbnail_link', 'comments_disabled', 'ratings_disabled',\n",
       "       'video_error_or_removed', 'description'],\n",
       "      dtype='object')"
      ]
     },
     "execution_count": 3,
     "metadata": {},
     "output_type": "execute_result"
    }
   ],
   "source": [
    "df_big_en.columns"
   ]
  },
  {
   "cell_type": "code",
   "execution_count": 4,
   "id": "1a8985d3",
   "metadata": {},
   "outputs": [
    {
     "data": {
      "text/plain": [
       "(120746, 5)"
      ]
     },
     "execution_count": 4,
     "metadata": {},
     "output_type": "execute_result"
    }
   ],
   "source": [
    "df_big_en = df_big_en.drop(['video_id', 'trending_date','publish_time','views', 'likes', 'dislikes', 'comment_count',\n",
    "       'thumbnail_link', 'comments_disabled', 'ratings_disabled',\n",
    "       'video_error_or_removed'], axis =1)\n",
    "df_big_en.shape"
   ]
  },
  {
   "cell_type": "code",
   "execution_count": 5,
   "id": "7b7a5a4a",
   "metadata": {},
   "outputs": [
    {
     "data": {
      "text/plain": [
       "(30713, 5)"
      ]
     },
     "execution_count": 5,
     "metadata": {},
     "output_type": "execute_result"
    }
   ],
   "source": [
    "df_big_en = df_big_en.drop_duplicates(subset=['title', 'channel_title'])\n",
    "df_big_en.shape"
   ]
  },
  {
   "cell_type": "code",
   "execution_count": 6,
   "id": "ce549295",
   "metadata": {},
   "outputs": [
    {
     "name": "stdout",
     "output_type": "stream",
     "text": [
      "<class 'pandas.core.frame.DataFrame'>\n",
      "Int64Index: 30713 entries, 0 to 40766\n",
      "Data columns (total 5 columns):\n",
      " #   Column         Non-Null Count  Dtype \n",
      "---  ------         --------------  ----- \n",
      " 0   title          30713 non-null  object\n",
      " 1   channel_title  30713 non-null  object\n",
      " 2   category_id    30713 non-null  int64 \n",
      " 3   tags           30713 non-null  object\n",
      " 4   description    29619 non-null  object\n",
      "dtypes: int64(1), object(4)\n",
      "memory usage: 1.4+ MB\n"
     ]
    }
   ],
   "source": [
    "df_big_en.info()"
   ]
  },
  {
   "cell_type": "code",
   "execution_count": 7,
   "id": "455cec6b",
   "metadata": {},
   "outputs": [
    {
     "name": "stdout",
     "output_type": "stream",
     "text": [
      "Index(['title', 'channel_title', 'category_id', 'tags', 'description'], dtype='object')\n"
     ]
    }
   ],
   "source": [
    "#Standardize column names\n",
    "Data_cols = df_big_en.columns.tolist()\n",
    "New_cols = [column.lower().replace(' ', '_') for column in Data_cols]\n",
    "df_big_en.columns = New_cols\n",
    "print(df_big_en.columns)"
   ]
  },
  {
   "cell_type": "code",
   "execution_count": 8,
   "id": "cd78263f",
   "metadata": {},
   "outputs": [],
   "source": [
    "#Reorder dataframe\n",
    "df_big_en = df_big_en[['channel_title', 'category_id','title','tags', 'description']]"
   ]
  },
  {
   "cell_type": "code",
   "execution_count": 9,
   "id": "a3ffee57",
   "metadata": {},
   "outputs": [
    {
     "data": {
      "text/plain": [
       "0    Eminem's new track Walk on Water ft. Beyoncé i...\n",
       "1    STill got a lot of packages. Probably will las...\n",
       "2    WATCH MY PREVIOUS VIDEO ▶ \\n\\nSUBSCRIBE ► http...\n",
       "3    I know it's been a while since we did this sho...\n",
       "Name: description, dtype: object"
      ]
     },
     "execution_count": 9,
     "metadata": {},
     "output_type": "execute_result"
    }
   ],
   "source": [
    "df_big_en['description'][:4]"
   ]
  },
  {
   "cell_type": "code",
   "execution_count": 10,
   "id": "67116bbf",
   "metadata": {},
   "outputs": [],
   "source": [
    "#Clean and split tags\n",
    "def clean_up(tag):\n",
    "    tag = tag.lower()\n",
    "    tag = re.sub(\"http:\\S+\", \" \", tag)\n",
    "    tag = re.findall(\"[a-z]+\", tag)\n",
    "    return ','.join(tag)\n",
    "\n",
    "df_big_en['tags'] = df_big_en['tags'].apply(clean_up)"
   ]
  },
  {
   "cell_type": "code",
   "execution_count": 20,
   "id": "9a2be058",
   "metadata": {},
   "outputs": [],
   "source": [
    "#Clean and split description\n",
    "\n",
    "def clean_description(description):\n",
    "    if isinstance(description, str):\n",
    "        description = description.lower()\n",
    "        description = re.sub(r\"http\\S+|www\\S+|https\\S+\", \"\", description)\n",
    "        description = re.sub(r\"[^\\w\\s]\", \"\", description)\n",
    "    \n",
    "    return description\n",
    "\n",
    "df_big_en['description'] = df_big_en['description'].apply(clean_description)\n"
   ]
  },
  {
   "cell_type": "code",
   "execution_count": 21,
   "id": "8e8bb0dd",
   "metadata": {},
   "outputs": [
    {
     "data": {
      "text/html": [
       "<div>\n",
       "<style scoped>\n",
       "    .dataframe tbody tr th:only-of-type {\n",
       "        vertical-align: middle;\n",
       "    }\n",
       "\n",
       "    .dataframe tbody tr th {\n",
       "        vertical-align: top;\n",
       "    }\n",
       "\n",
       "    .dataframe thead th {\n",
       "        text-align: right;\n",
       "    }\n",
       "</style>\n",
       "<table border=\"1\" class=\"dataframe\">\n",
       "  <thead>\n",
       "    <tr style=\"text-align: right;\">\n",
       "      <th></th>\n",
       "      <th>channel_title</th>\n",
       "      <th>category_id</th>\n",
       "      <th>title</th>\n",
       "      <th>tags</th>\n",
       "      <th>description</th>\n",
       "    </tr>\n",
       "  </thead>\n",
       "  <tbody>\n",
       "    <tr>\n",
       "      <th>0</th>\n",
       "      <td>EminemVEVO</td>\n",
       "      <td>10</td>\n",
       "      <td>Eminem - Walk On Water (Audio) ft. Beyoncé</td>\n",
       "      <td>eminem,walk,on,water,aftermath,shady,interscop...</td>\n",
       "      <td>eminems new track walk on water ft beyoncé is ...</td>\n",
       "    </tr>\n",
       "    <tr>\n",
       "      <th>1</th>\n",
       "      <td>iDubbbzTV</td>\n",
       "      <td>23</td>\n",
       "      <td>PLUSH - Bad Unboxing Fan Mail</td>\n",
       "      <td>plush,bad,unboxing,unboxing,fan,mail,idubbbztv...</td>\n",
       "      <td>still got a lot of packages probably will last...</td>\n",
       "    </tr>\n",
       "    <tr>\n",
       "      <th>2</th>\n",
       "      <td>Rudy Mancuso</td>\n",
       "      <td>23</td>\n",
       "      <td>Racist Superman | Rudy Mancuso, King Bach &amp; Le...</td>\n",
       "      <td>racist,superman,rudy,mancuso,king,bach,racist,...</td>\n",
       "      <td>watch my previous video  nnsubscribe   for wat...</td>\n",
       "    </tr>\n",
       "    <tr>\n",
       "      <th>3</th>\n",
       "      <td>nigahiga</td>\n",
       "      <td>24</td>\n",
       "      <td>I Dare You: GOING BALD!?</td>\n",
       "      <td>ryan,higa,higatv,nigahiga,i,dare,you,idy,rhpc,...</td>\n",
       "      <td>i know its been a while since we did this show...</td>\n",
       "    </tr>\n",
       "    <tr>\n",
       "      <th>4</th>\n",
       "      <td>Ed Sheeran</td>\n",
       "      <td>10</td>\n",
       "      <td>Ed Sheeran - Perfect (Official Music Video)</td>\n",
       "      <td>edsheeran,ed,sheeran,acoustic,live,cover,offic...</td>\n",
       "      <td>to eds channel  ed onnfacebook    website  ...</td>\n",
       "    </tr>\n",
       "  </tbody>\n",
       "</table>\n",
       "</div>"
      ],
      "text/plain": [
       "  channel_title  category_id  \\\n",
       "0    EminemVEVO           10   \n",
       "1     iDubbbzTV           23   \n",
       "2  Rudy Mancuso           23   \n",
       "3      nigahiga           24   \n",
       "4    Ed Sheeran           10   \n",
       "\n",
       "                                               title  \\\n",
       "0         Eminem - Walk On Water (Audio) ft. Beyoncé   \n",
       "1                      PLUSH - Bad Unboxing Fan Mail   \n",
       "2  Racist Superman | Rudy Mancuso, King Bach & Le...   \n",
       "3                           I Dare You: GOING BALD!?   \n",
       "4        Ed Sheeran - Perfect (Official Music Video)   \n",
       "\n",
       "                                                tags  \\\n",
       "0  eminem,walk,on,water,aftermath,shady,interscop...   \n",
       "1  plush,bad,unboxing,unboxing,fan,mail,idubbbztv...   \n",
       "2  racist,superman,rudy,mancuso,king,bach,racist,...   \n",
       "3  ryan,higa,higatv,nigahiga,i,dare,you,idy,rhpc,...   \n",
       "4  edsheeran,ed,sheeran,acoustic,live,cover,offic...   \n",
       "\n",
       "                                         description  \n",
       "0  eminems new track walk on water ft beyoncé is ...  \n",
       "1  still got a lot of packages probably will last...  \n",
       "2  watch my previous video  nnsubscribe   for wat...  \n",
       "3  i know its been a while since we did this show...  \n",
       "4     to eds channel  ed onnfacebook    website  ...  "
      ]
     },
     "execution_count": 21,
     "metadata": {},
     "output_type": "execute_result"
    }
   ],
   "source": [
    "df_big_en.head(5)"
   ]
  },
  {
   "cell_type": "code",
   "execution_count": 25,
   "id": "6a9fd20b",
   "metadata": {},
   "outputs": [
    {
     "data": {
      "text/plain": [
       "24    9838\n",
       "25    3461\n",
       "22    3104\n",
       "10    2555\n",
       "17    2436\n",
       "23    2332\n",
       "26    1796\n",
       "1     1451\n",
       "20     974\n",
       "28     913\n",
       "27     775\n",
       "15     334\n",
       "2      314\n",
       "19     253\n",
       "43     107\n",
       "29      69\n",
       "30       1\n",
       "Name: category_id, dtype: int64"
      ]
     },
     "execution_count": 25,
     "metadata": {},
     "output_type": "execute_result"
    }
   ],
   "source": [
    "df_big_en['category_id'].value_counts()"
   ]
  },
  {
   "cell_type": "code",
   "execution_count": 24,
   "id": "a654f338",
   "metadata": {},
   "outputs": [],
   "source": [
    "df_big_en.to_csv('df_big_en.csv', index=False)"
   ]
  },
  {
   "cell_type": "markdown",
   "id": "468234c7",
   "metadata": {},
   "source": [
    "   + Save the two big dataset because I don't need to filter by language."
   ]
  },
  {
   "cell_type": "code",
   "execution_count": 3,
   "id": "eb625102",
   "metadata": {},
   "outputs": [],
   "source": [
    "import pandas as pd\n",
    "data= pd.read_csv('df_big_en.csv')\n",
    "data_1 = pd.read_csv('df_big_es.csv')"
   ]
  },
  {
   "cell_type": "code",
   "execution_count": 5,
   "id": "8660982d",
   "metadata": {},
   "outputs": [
    {
     "data": {
      "text/plain": [
       "(64555, 5)"
      ]
     },
     "execution_count": 5,
     "metadata": {},
     "output_type": "execute_result"
    }
   ],
   "source": [
    "df_big = pd.concat([data, data_1], axis=0)\n",
    "df_big.shape"
   ]
  },
  {
   "cell_type": "code",
   "execution_count": 6,
   "id": "2e33a979",
   "metadata": {},
   "outputs": [
    {
     "data": {
      "text/plain": [
       "(62675, 5)"
      ]
     },
     "execution_count": 6,
     "metadata": {},
     "output_type": "execute_result"
    }
   ],
   "source": [
    "df_big = df_big.drop_duplicates(subset=['channel_title', 'title'])\n",
    "df_big.shape"
   ]
  },
  {
   "cell_type": "code",
   "execution_count": 7,
   "id": "b9a73f0c",
   "metadata": {},
   "outputs": [],
   "source": [
    "df_big.to_csv('df_big.csv', index=False)"
   ]
  },
  {
   "cell_type": "code",
   "execution_count": 2,
   "id": "6c782f95",
   "metadata": {},
   "outputs": [
    {
     "data": {
      "text/html": [
       "<div>\n",
       "<style scoped>\n",
       "    .dataframe tbody tr th:only-of-type {\n",
       "        vertical-align: middle;\n",
       "    }\n",
       "\n",
       "    .dataframe tbody tr th {\n",
       "        vertical-align: top;\n",
       "    }\n",
       "\n",
       "    .dataframe thead th {\n",
       "        text-align: right;\n",
       "    }\n",
       "</style>\n",
       "<table border=\"1\" class=\"dataframe\">\n",
       "  <thead>\n",
       "    <tr style=\"text-align: right;\">\n",
       "      <th></th>\n",
       "      <th>channel_title</th>\n",
       "      <th>category_id</th>\n",
       "      <th>title</th>\n",
       "      <th>tags</th>\n",
       "      <th>description</th>\n",
       "    </tr>\n",
       "  </thead>\n",
       "  <tbody>\n",
       "    <tr>\n",
       "      <th>0</th>\n",
       "      <td>EminemVEVO</td>\n",
       "      <td>10</td>\n",
       "      <td>Eminem - Walk On Water (Audio) ft. Beyoncé</td>\n",
       "      <td>eminem,walk,on,water,aftermath,shady,interscop...</td>\n",
       "      <td>eminems new track walk on water ft beyoncé is ...</td>\n",
       "    </tr>\n",
       "    <tr>\n",
       "      <th>1</th>\n",
       "      <td>iDubbbzTV</td>\n",
       "      <td>23</td>\n",
       "      <td>PLUSH - Bad Unboxing Fan Mail</td>\n",
       "      <td>plush,bad,unboxing,unboxing,fan,mail,idubbbztv...</td>\n",
       "      <td>still got a lot of packages probably will last...</td>\n",
       "    </tr>\n",
       "    <tr>\n",
       "      <th>2</th>\n",
       "      <td>Rudy Mancuso</td>\n",
       "      <td>23</td>\n",
       "      <td>Racist Superman | Rudy Mancuso, King Bach &amp; Le...</td>\n",
       "      <td>racist,superman,rudy,mancuso,king,bach,racist,...</td>\n",
       "      <td>watch my previous video  nnsubscribe   for wat...</td>\n",
       "    </tr>\n",
       "    <tr>\n",
       "      <th>3</th>\n",
       "      <td>nigahiga</td>\n",
       "      <td>24</td>\n",
       "      <td>I Dare You: GOING BALD!?</td>\n",
       "      <td>ryan,higa,higatv,nigahiga,i,dare,you,idy,rhpc,...</td>\n",
       "      <td>i know its been a while since we did this show...</td>\n",
       "    </tr>\n",
       "    <tr>\n",
       "      <th>4</th>\n",
       "      <td>Ed Sheeran</td>\n",
       "      <td>10</td>\n",
       "      <td>Ed Sheeran - Perfect (Official Music Video)</td>\n",
       "      <td>edsheeran,ed,sheeran,acoustic,live,cover,offic...</td>\n",
       "      <td>to eds channel  ed onnfacebook    website  ...</td>\n",
       "    </tr>\n",
       "    <tr>\n",
       "      <th>...</th>\n",
       "      <td>...</td>\n",
       "      <td>...</td>\n",
       "      <td>...</td>\n",
       "      <td>...</td>\n",
       "      <td>...</td>\n",
       "    </tr>\n",
       "    <tr>\n",
       "      <th>62670</th>\n",
       "      <td>Caso Cerrado</td>\n",
       "      <td>24</td>\n",
       "      <td>Boda Sin Travesti 😩🏃‍♂️👯 | Caso Cerrado | Tele...</td>\n",
       "      <td>telemundo,doctora,ana,maria,polo,batallas,lega...</td>\n",
       "      <td>video oficial del controvertido programa de te...</td>\n",
       "    </tr>\n",
       "    <tr>\n",
       "      <th>62671</th>\n",
       "      <td>BLA BLA</td>\n",
       "      <td>27</td>\n",
       "      <td>أقوى مشاهد قيادة تحبس الأنفاس صورتها عدسات الك...</td>\n",
       "      <td>none</td>\n",
       "      <td>أقوى مشاهد قيادة تحبس الأنفاس صورتها عدسات الك...</td>\n",
       "    </tr>\n",
       "    <tr>\n",
       "      <th>62672</th>\n",
       "      <td>Historias Wink</td>\n",
       "      <td>24</td>\n",
       "      <td>Maire usa una blusa kawaiii ¿adorable o ridícula?</td>\n",
       "      <td>maire,maire,vs,el,internet,maire,vs,internet,m...</td>\n",
       "      <td>maire usa una blusa kawaii de alicia en el paí...</td>\n",
       "    </tr>\n",
       "    <tr>\n",
       "      <th>62673</th>\n",
       "      <td>Tele Time</td>\n",
       "      <td>22</td>\n",
       "      <td>La Jefa del Campeón - Capítulo 2 Parte 3/4</td>\n",
       "      <td>none</td>\n",
       "      <td>NaN</td>\n",
       "    </tr>\n",
       "    <tr>\n",
       "      <th>62674</th>\n",
       "      <td>GolD Nakama</td>\n",
       "      <td>24</td>\n",
       "      <td>¿POR QUÉ SHANKS ES TAN RESPETADO POR TODOS EN ...</td>\n",
       "      <td>none</td>\n",
       "      <td>hoy os traigo el preguntas y respuestas 104 de...</td>\n",
       "    </tr>\n",
       "  </tbody>\n",
       "</table>\n",
       "<p>62675 rows × 5 columns</p>\n",
       "</div>"
      ],
      "text/plain": [
       "        channel_title  category_id  \\\n",
       "0          EminemVEVO           10   \n",
       "1           iDubbbzTV           23   \n",
       "2        Rudy Mancuso           23   \n",
       "3            nigahiga           24   \n",
       "4          Ed Sheeran           10   \n",
       "...               ...          ...   \n",
       "62670    Caso Cerrado           24   \n",
       "62671         BLA BLA           27   \n",
       "62672  Historias Wink           24   \n",
       "62673       Tele Time           22   \n",
       "62674     GolD Nakama           24   \n",
       "\n",
       "                                                   title  \\\n",
       "0             Eminem - Walk On Water (Audio) ft. Beyoncé   \n",
       "1                          PLUSH - Bad Unboxing Fan Mail   \n",
       "2      Racist Superman | Rudy Mancuso, King Bach & Le...   \n",
       "3                               I Dare You: GOING BALD!?   \n",
       "4            Ed Sheeran - Perfect (Official Music Video)   \n",
       "...                                                  ...   \n",
       "62670  Boda Sin Travesti 😩🏃‍♂️👯 | Caso Cerrado | Tele...   \n",
       "62671  أقوى مشاهد قيادة تحبس الأنفاس صورتها عدسات الك...   \n",
       "62672  Maire usa una blusa kawaiii ¿adorable o ridícula?   \n",
       "62673         La Jefa del Campeón - Capítulo 2 Parte 3/4   \n",
       "62674  ¿POR QUÉ SHANKS ES TAN RESPETADO POR TODOS EN ...   \n",
       "\n",
       "                                                    tags  \\\n",
       "0      eminem,walk,on,water,aftermath,shady,interscop...   \n",
       "1      plush,bad,unboxing,unboxing,fan,mail,idubbbztv...   \n",
       "2      racist,superman,rudy,mancuso,king,bach,racist,...   \n",
       "3      ryan,higa,higatv,nigahiga,i,dare,you,idy,rhpc,...   \n",
       "4      edsheeran,ed,sheeran,acoustic,live,cover,offic...   \n",
       "...                                                  ...   \n",
       "62670  telemundo,doctora,ana,maria,polo,batallas,lega...   \n",
       "62671                                               none   \n",
       "62672  maire,maire,vs,el,internet,maire,vs,internet,m...   \n",
       "62673                                               none   \n",
       "62674                                               none   \n",
       "\n",
       "                                             description  \n",
       "0      eminems new track walk on water ft beyoncé is ...  \n",
       "1      still got a lot of packages probably will last...  \n",
       "2      watch my previous video  nnsubscribe   for wat...  \n",
       "3      i know its been a while since we did this show...  \n",
       "4         to eds channel  ed onnfacebook    website  ...  \n",
       "...                                                  ...  \n",
       "62670  video oficial del controvertido programa de te...  \n",
       "62671  أقوى مشاهد قيادة تحبس الأنفاس صورتها عدسات الك...  \n",
       "62672  maire usa una blusa kawaii de alicia en el paí...  \n",
       "62673                                                NaN  \n",
       "62674  hoy os traigo el preguntas y respuestas 104 de...  \n",
       "\n",
       "[62675 rows x 5 columns]"
      ]
     },
     "execution_count": 2,
     "metadata": {},
     "output_type": "execute_result"
    }
   ],
   "source": [
    "import pandas as pd\n",
    "data_2 = pd.read_csv('df_big.csv')\n",
    "data_2"
   ]
  },
  {
   "cell_type": "code",
   "execution_count": null,
   "id": "4bf32a5e",
   "metadata": {},
   "outputs": [],
   "source": []
  }
 ],
 "metadata": {
  "kernelspec": {
   "display_name": "Python 3 (ipykernel)",
   "language": "python",
   "name": "python3"
  },
  "language_info": {
   "codemirror_mode": {
    "name": "ipython",
    "version": 3
   },
   "file_extension": ".py",
   "mimetype": "text/x-python",
   "name": "python",
   "nbconvert_exporter": "python",
   "pygments_lexer": "ipython3",
   "version": "3.10.9"
  }
 },
 "nbformat": 4,
 "nbformat_minor": 5
}
