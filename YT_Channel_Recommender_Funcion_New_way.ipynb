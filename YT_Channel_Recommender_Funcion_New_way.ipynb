{
 "cells": [
  {
   "cell_type": "code",
   "execution_count": 1,
   "id": "93358565",
   "metadata": {},
   "outputs": [],
   "source": [
    "import pandas as pd\n",
    "import numpy as np\n",
    "from googleapiclient.discovery import build"
   ]
  },
  {
   "cell_type": "markdown",
   "id": "eeb5a449",
   "metadata": {},
   "source": [
    "   + Active my credentials for the YouTube v3 api"
   ]
  },
  {
   "cell_type": "code",
   "execution_count": 2,
   "id": "7d930a91",
   "metadata": {},
   "outputs": [],
   "source": [
    "api_key = open(\"api_key.txt\",\"r\")\n",
    "api_key = api_key.read()\n",
    "youtube = build('youtube', 'v3', developerKey=api_key)"
   ]
  },
  {
   "cell_type": "markdown",
   "id": "71161a9e",
   "metadata": {},
   "source": [
    "   + Function to get the channel ID only from the User input using youtube.search.list()"
   ]
  },
  {
   "cell_type": "code",
   "execution_count": 9,
   "id": "d292d859",
   "metadata": {},
   "outputs": [
    {
     "name": "stdout",
     "output_type": "stream",
     "text": [
      "Type a topic for your channel: football boots\n"
     ]
    }
   ],
   "source": [
    "def get_channel_ids(user_input):\n",
    "    try:\n",
    "        request = youtube.search().list(\n",
    "            part=\"snippet\",\n",
    "            order=\"relevance\",\n",
    "            maxResults=5,\n",
    "            q=user_input,\n",
    "        )\n",
    "        response = request.execute()\n",
    "\n",
    "        channel_ids = []\n",
    "        for item in response['items']:\n",
    "            channel_id = item['snippet']['channelId']\n",
    "            if channel_id not in channel_ids:  \n",
    "                channel_ids.append(channel_id)\n",
    "\n",
    "        if channel_ids:\n",
    "            return channel_ids\n",
    "        else:\n",
    "            print(\"Sorry, I can't find your topic in my recommendations. Let's try another topic :).\")\n",
    "            return None\n",
    "    except Exception as e:\n",
    "        print(\"An error occurred:\", str(e))\n",
    "        return None\n",
    "\n",
    "user_input = input(\"Type a topic for your channel: \")\n",
    "channel_ids = get_channel_ids(user_input)\n"
   ]
  },
  {
   "cell_type": "code",
   "execution_count": 10,
   "id": "279ed440",
   "metadata": {},
   "outputs": [
    {
     "data": {
      "text/plain": [
       "['UCwozCpFp9g9x0wAzuFh0hwQ',\n",
       " 'UC5SQGzkWyQSW_fe-URgq7xw',\n",
       " 'UCUU3lMXc6iDrQw4eZen8COQ']"
      ]
     },
     "execution_count": 10,
     "metadata": {},
     "output_type": "execute_result"
    }
   ],
   "source": [
    "# Display the channels \n",
    "channel_ids"
   ]
  },
  {
   "cell_type": "markdown",
   "id": "ba99fc92",
   "metadata": {},
   "source": [
    "   + Function to get the tags and category ID from youtube.video.list()"
   ]
  },
  {
   "cell_type": "code",
   "execution_count": 11,
   "id": "e79ec481",
   "metadata": {},
   "outputs": [],
   "source": [
    "def get_video_ids(channel_ids):\n",
    "    video_ids = []\n",
    "    for channel_id in channel_ids:\n",
    "        try:\n",
    "            request = youtube.search().list(\n",
    "                part=\"snippet\",\n",
    "                channelId=channel_id,\n",
    "                maxResults=1,\n",
    "                q=user_input,\n",
    "                type=\"video\"\n",
    "            )\n",
    "            response = request.execute()\n",
    "\n",
    "            video_id = response['items'][0]['id']['videoId']\n",
    "            video_ids.append(video_id)\n",
    "        except Exception as e:\n",
    "            print(\"An error occurred:\", str(e))\n",
    "\n",
    "    return video_ids\n",
    "\n",
    "video_ids = get_video_ids(channel_ids)\n",
    "\n",
    "\n",
    "def get_tags_channel(video_ids):\n",
    "    database = []\n",
    "    for video_id in video_ids:\n",
    "        try:\n",
    "            request = youtube.videos().list(\n",
    "                part=\"snippet\",\n",
    "                id=video_id\n",
    "            )\n",
    "            response = request.execute()\n",
    "\n",
    "            items = response['items']\n",
    "            for item in items:\n",
    "                video_data = [\n",
    "                    item['snippet'].get('channelId'),\n",
    "                    item['snippet'].get('channelTitle'),\n",
    "                    item['snippet'].get('categoryId'),\n",
    "                    item['snippet'].get('title'),\n",
    "                    item['snippet'].get('tags'),\n",
    "                    item['snippet'].get('description')\n",
    "                ]\n",
    "\n",
    "                channel_url = item['snippet'].get('channelId')\n",
    "\n",
    "                request_1 = youtube.channels().list(\n",
    "                    part=\"snippet\",\n",
    "                    id=channel_url\n",
    "                )\n",
    "                response_1 = request_1.execute()\n",
    "\n",
    "                channel_data = response_1['items'][0]['snippet']\n",
    "                video_data.append(channel_data.get('customUrl'))\n",
    "\n",
    "                database.append(video_data)\n",
    "        except Exception as e:\n",
    "            print(\"An error occurred:\", str(e))\n",
    "\n",
    "    return database\n",
    "\n",
    "database = get_tags_channel(video_ids)\n",
    "\n",
    "df_channel = pd.DataFrame(database, columns=['channel_id', 'channel_title', 'category_id', 'title', 'tags', 'description', 'channel_url'])\n"
   ]
  },
  {
   "cell_type": "code",
   "execution_count": 12,
   "id": "386533c6",
   "metadata": {},
   "outputs": [
    {
     "data": {
      "text/html": [
       "<div>\n",
       "<style scoped>\n",
       "    .dataframe tbody tr th:only-of-type {\n",
       "        vertical-align: middle;\n",
       "    }\n",
       "\n",
       "    .dataframe tbody tr th {\n",
       "        vertical-align: top;\n",
       "    }\n",
       "\n",
       "    .dataframe thead th {\n",
       "        text-align: right;\n",
       "    }\n",
       "</style>\n",
       "<table border=\"1\" class=\"dataframe\">\n",
       "  <thead>\n",
       "    <tr style=\"text-align: right;\">\n",
       "      <th></th>\n",
       "      <th>channel_title</th>\n",
       "      <th>channel_url</th>\n",
       "    </tr>\n",
       "  </thead>\n",
       "  <tbody>\n",
       "    <tr>\n",
       "      <th>0</th>\n",
       "      <td>FC Motivate</td>\n",
       "      <td>@_fcmotivate</td>\n",
       "    </tr>\n",
       "    <tr>\n",
       "      <th>1</th>\n",
       "      <td>Unisport</td>\n",
       "      <td>@unisport</td>\n",
       "    </tr>\n",
       "    <tr>\n",
       "      <th>2</th>\n",
       "      <td>Soccer Reviews For You</td>\n",
       "      <td>@soccerreviewsforyou</td>\n",
       "    </tr>\n",
       "  </tbody>\n",
       "</table>\n",
       "</div>"
      ],
      "text/plain": [
       "            channel_title           channel_url\n",
       "0             FC Motivate          @_fcmotivate\n",
       "1                Unisport             @unisport\n",
       "2  Soccer Reviews For You  @soccerreviewsforyou"
      ]
     },
     "execution_count": 12,
     "metadata": {},
     "output_type": "execute_result"
    }
   ],
   "source": [
    "top_5_channel = df_channel.drop(columns=['channel_id', 'category_id','title', 'tags', 'description'])\n",
    "top_5_channel"
   ]
  },
  {
   "cell_type": "code",
   "execution_count": 14,
   "id": "93d47865",
   "metadata": {},
   "outputs": [
    {
     "data": {
      "text/html": [
       "<div>\n",
       "<style scoped>\n",
       "    .dataframe tbody tr th:only-of-type {\n",
       "        vertical-align: middle;\n",
       "    }\n",
       "\n",
       "    .dataframe tbody tr th {\n",
       "        vertical-align: top;\n",
       "    }\n",
       "\n",
       "    .dataframe thead th {\n",
       "        text-align: right;\n",
       "    }\n",
       "</style>\n",
       "<table border=\"1\" class=\"dataframe\">\n",
       "  <thead>\n",
       "    <tr style=\"text-align: right;\">\n",
       "      <th></th>\n",
       "      <th>title</th>\n",
       "    </tr>\n",
       "  </thead>\n",
       "  <tbody>\n",
       "    <tr>\n",
       "      <th>0</th>\n",
       "      <td>The Story Behind Jack Grealish’s Ripped Footba...</td>\n",
       "    </tr>\n",
       "    <tr>\n",
       "      <th>1</th>\n",
       "      <td>5 mistakes to AVOID when buying new boots</td>\n",
       "    </tr>\n",
       "    <tr>\n",
       "      <th>2</th>\n",
       "      <td>The NEW and CONFUSING Adidas X CrazyFast footb...</td>\n",
       "    </tr>\n",
       "  </tbody>\n",
       "</table>\n",
       "</div>"
      ],
      "text/plain": [
       "                                               title\n",
       "0  The Story Behind Jack Grealish’s Ripped Footba...\n",
       "1          5 mistakes to AVOID when buying new boots\n",
       "2  The NEW and CONFUSING Adidas X CrazyFast footb..."
      ]
     },
     "execution_count": 14,
     "metadata": {},
     "output_type": "execute_result"
    }
   ],
   "source": [
    "video_reccomendation = df_channel.drop(columns=['channel_id', 'channel_title', 'category_id', 'tags', 'description', 'channel_url'])\n",
    "video_reccomendation"
   ]
  },
  {
   "cell_type": "code",
   "execution_count": null,
   "id": "3c50ce23",
   "metadata": {},
   "outputs": [],
   "source": []
  }
 ],
 "metadata": {
  "kernelspec": {
   "display_name": "Python 3 (ipykernel)",
   "language": "python",
   "name": "python3"
  },
  "language_info": {
   "codemirror_mode": {
    "name": "ipython",
    "version": 3
   },
   "file_extension": ".py",
   "mimetype": "text/x-python",
   "name": "python",
   "nbconvert_exporter": "python",
   "pygments_lexer": "ipython3",
   "version": "3.10.9"
  }
 },
 "nbformat": 4,
 "nbformat_minor": 5
}
